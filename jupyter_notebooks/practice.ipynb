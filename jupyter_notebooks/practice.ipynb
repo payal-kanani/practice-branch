{
 "cells": [
  {
   "cell_type": "code",
   "execution_count": null,
   "id": "e95abbb0",
   "metadata": {},
   "outputs": [],
   "source": [
    "# Hello"
   ]
  },
  {
   "cell_type": "code",
<<<<<<< HEAD
   "execution_count": 1,
=======
   "execution_count": 3,
>>>>>>> main
   "id": "0b1414d1",
   "metadata": {},
   "outputs": [
    {
     "data": {
      "text/plain": [
       "3"
      ]
     },
     "execution_count": 3,
     "metadata": {},
     "output_type": "execute_result"
    }
   ],
   "source": [
    "a = 1\n",
    "b= 2\n",
    "c = a+b\n",
    "c"
   ]
  },
  {
   "cell_type": "code",
   "execution_count": 4,
   "id": "29fbbd15",
   "metadata": {},
   "outputs": [
    {
     "data": {
      "text/plain": [
       "7"
      ]
     },
     "execution_count": 4,
     "metadata": {},
     "output_type": "execute_result"
    }
   ],
   "source": [
    "f = 3\n",
    "d = 4\n",
    "e = f + d\n",
    "e"
   ]
  },
  {
   "cell_type": "code",
   "execution_count": 5,
   "id": "5dc6e306",
   "metadata": {},
   "outputs": [
    {
     "data": {
      "text/plain": [
       "45"
      ]
     },
     "execution_count": 5,
     "metadata": {},
     "output_type": "execute_result"
    }
   ],
   "source": [
    "p = 9\n",
    "i = 5\n",
    "p * i"
   ]
  },
  {
   "cell_type": "code",
   "execution_count": 6,
   "id": "36bf32ce",
   "metadata": {},
   "outputs": [
    {
     "name": "stdout",
     "output_type": "stream",
     "text": [
      "Hello, World!\n"
     ]
    }
   ],
   "source": [
    "print(\"Hello, World!\")"
   ]
  },
  {
   "cell_type": "code",
   "execution_count": null,
   "id": "74a46f04",
   "metadata": {},
   "outputs": [],
   "source": [
    "# How are you"
   ]
  },
  {
   "cell_type": "code",
<<<<<<< HEAD
   "execution_count": 2,
   "id": "90f593b6",
   "metadata": {},
   "outputs": [],
   "source": [
    "# Ajay"
   ]
  },
  {
   "cell_type": "code",
   "execution_count": 3,
   "id": "92ebef28",
   "metadata": {},
   "outputs": [],
   "source": [
    "# branch"
   ]
  },
  {
   "cell_type": "code",
   "execution_count": 4,
   "id": "e1030a2a",
   "metadata": {},
   "outputs": [],
   "source": [
    "# working"
   ]
  },
  {
   "cell_type": "code",
   "execution_count": 7,
   "id": "3445a631",
   "metadata": {},
   "outputs": [
    {
     "name": "stdout",
     "output_type": "stream",
     "text": [
      "Hello, How are you?\n"
     ]
    }
   ],
   "source": [
    "print(\"Hello, How are you?\")"
=======
   "execution_count": 5,
   "id": "39036d21",
   "metadata": {},
   "outputs": [],
   "source": [
    "# working together"
>>>>>>> main
   ]
  }
 ],
 "metadata": {
  "kernelspec": {
   "display_name": "Python 3",
   "language": "python",
   "name": "python3"
  },
  "language_info": {
   "codemirror_mode": {
    "name": "ipython",
    "version": 3
   },
   "file_extension": ".py",
   "mimetype": "text/x-python",
   "name": "python",
   "nbconvert_exporter": "python",
   "pygments_lexer": "ipython3",
   "version": "3.12.8"
  }
 },
 "nbformat": 4,
 "nbformat_minor": 5
}
