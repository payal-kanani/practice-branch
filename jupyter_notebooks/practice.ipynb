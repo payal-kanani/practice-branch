{
 "cells": [
  {
   "cell_type": "code",
   "execution_count": null,
   "id": "e95abbb0",
   "metadata": {},
   "outputs": [],
   "source": [
    "# Hello"
   ]
  },
  {
   "cell_type": "code",
   "execution_count": 1,
   "id": "0b1414d1",
   "metadata": {},
   "outputs": [],
   "source": [
    "# How are you"
   ]
  },
  {
   "cell_type": "code",
   "execution_count": 2,
   "id": "90f593b6",
   "metadata": {},
   "outputs": [],
   "source": [
    "# Ajay"
   ]
  },
  {
   "cell_type": "code",
   "execution_count": 3,
   "id": "92ebef28",
   "metadata": {},
   "outputs": [],
   "source": [
    "# branch"
   ]
  },
  {
   "cell_type": "code",
   "execution_count": 4,
   "id": "e1030a2a",
   "metadata": {},
   "outputs": [],
   "source": [
    "# working"
   ]
  }
 ],
 "metadata": {
  "kernelspec": {
   "display_name": "Python 3",
   "language": "python",
   "name": "python3"
  },
  "language_info": {
   "codemirror_mode": {
    "name": "ipython",
    "version": 3
   },
   "file_extension": ".py",
   "mimetype": "text/x-python",
   "name": "python",
   "nbconvert_exporter": "python",
   "pygments_lexer": "ipython3",
   "version": "3.12.8"
  }
 },
 "nbformat": 4,
 "nbformat_minor": 5
}
