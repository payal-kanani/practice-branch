{
 "cells": [
  {
   "cell_type": "code",
   "execution_count": null,
   "id": "e95abbb0",
   "metadata": {},
   "outputs": [],
   "source": [
    "# Hello"
   ]
  },
  {
   "cell_type": "code",
   "execution_count": null,
   "id": "0b1414d1",
   "metadata": {},
   "outputs": [],
   "source": [
    "# How are you"
   ]
  },
  {
   "cell_type": "code",
   "execution_count": 5,
   "id": "39036d21",
   "metadata": {},
   "outputs": [],
   "source": [
    "# working together"
   ]
  }
 ],
 "metadata": {
  "kernelspec": {
   "display_name": "Python 3",
   "language": "python",
   "name": "python3"
  },
  "language_info": {
   "name": "python",
   "version": "3.12.8"
  }
 },
 "nbformat": 4,
 "nbformat_minor": 5
}
